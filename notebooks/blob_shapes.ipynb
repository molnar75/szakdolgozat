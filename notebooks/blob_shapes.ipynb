{
 "cells": [
  {
   "cell_type": "markdown",
   "metadata": {},
   "source": [
    "# Összefüggő képrészek klaszterezése"
   ]
  },
  {
   "cell_type": "code",
   "execution_count": null,
   "metadata": {},
   "outputs": [],
   "source": [
    "import cv2\n",
    "import numpy as np\n",
    "from pdf2image import convert_from_path\n",
    "\n",
    "def load_images_from_pdf(pdf_path, size=None):\n",
    "    \"\"\"\n",
    "    Load OpenCV images from a PDF file.\n",
    "    :param pdf_path: path of the PDF file\n",
    "    :param size: the preferred size in pixels as a (width, height) tuple\n",
    "    :return: list of OpenCV images\n",
    "    \"\"\"\n",
    "    pil_images = convert_from_path(pdf_path, size=size)\n",
    "    images = [\n",
    "        cv2.cvtColor(np.array(pil_image), cv2.COLOR_BGR2GRAY)\n",
    "        for pil_image in pil_images\n",
    "    ]\n",
    "    return images"
   ]
  },
  {
   "cell_type": "code",
   "execution_count": null,
   "metadata": {},
   "outputs": [],
   "source": [
    "images = load_images_from_pdf('samples/test12.pdf', size=(2500, None))\n",
    "image = images[1]\n",
    "image.shape"
   ]
  },
  {
   "cell_type": "code",
   "execution_count": null,
   "metadata": {},
   "outputs": [],
   "source": [
    "cv2.imwrite('/tmp/test.png', image)"
   ]
  },
  {
   "cell_type": "code",
   "execution_count": null,
   "metadata": {},
   "outputs": [],
   "source": [
    "def find_blob(image, start_point, threshold, is_visited):\n",
    "    \"\"\"\n",
    "    Collect the coordinates of the blob.\n",
    "    :param image: NumPy intensity image\n",
    "    :param start_point: (row, column) tuple of the start point\n",
    "    :param threshold: value of intensity threshold\n",
    "    :param is_visited: binary matrix which signs the visited pixels\n",
    "    :return: list of the coordinates of the blob points\n",
    "    \"\"\"\n",
    "    blob = []\n",
    "    if image[start_point] >= threshold:\n",
    "        return blob\n",
    "    unchecked = [start_point]\n",
    "    while unchecked:\n",
    "        row, column = unchecked.pop()\n",
    "        if row - 1 >= 0 and image[row - 1, column] < threshold and is_visited[row - 1, column] == False:\n",
    "            unchecked.append((row - 1, column))\n",
    "            blob.append(unchecked[-1])\n",
    "        if column - 1 >= 0 and image[row, column - 1] < threshold and is_visited[row, column - 1] == False:\n",
    "            unchecked.append((row, column - 1))\n",
    "            blob.append(unchecked[-1])\n",
    "        if column + 1 < image.shape[1] and image[row, column + 1] < threshold and is_visited[row, column + 1] == False:\n",
    "            unchecked.append((row, column + 1))\n",
    "            blob.append(unchecked[-1])\n",
    "        if row + 1 < image.shape[0] and image[row + 1, column] < threshold and is_visited[row + 1, column] == False:\n",
    "            unchecked.append((row + 1, column))\n",
    "            blob.append(unchecked[-1])\n",
    "        is_visited[row, column] = True\n",
    "    return blob"
   ]
  },
  {
   "cell_type": "code",
   "execution_count": null,
   "metadata": {},
   "outputs": [],
   "source": [
    "threshold = 128\n",
    "is_visited = np.zeros(image.shape, dtype=int)\n",
    "n_rows, n_columns = image.shape"
   ]
  },
  {
   "cell_type": "code",
   "execution_count": null,
   "metadata": {},
   "outputs": [],
   "source": [
    "find_blob(image, (341, 304), 128, is_visited)"
   ]
  },
  {
   "cell_type": "code",
   "execution_count": null,
   "metadata": {},
   "outputs": [],
   "source": [
    "cv2.imwrite('/tmp/is_visited.png', is_visited)"
   ]
  },
  {
   "cell_type": "code",
   "execution_count": null,
   "metadata": {},
   "outputs": [],
   "source": [
    "def find_blobs(image):\n",
    "    \"\"\"\n",
    "    Find the blobs on the image.\n",
    "    :param image: a two dimensional NumPy array\n",
    "    :return: list of the collected blobs\n",
    "    \"\"\"\n",
    "    blobs = []\n",
    "    threshold = 128\n",
    "    is_visited = np.zeros(image.shape, dtype=int)\n",
    "    n_rows, n_columns = image.shape\n",
    "    for i in range(n_rows):\n",
    "        for j in range(n_columns):\n",
    "            if is_visited[i, j] == False and image[i, j] < threshold:\n",
    "                blob = find_blob(image, (i, j), threshold, is_visited)\n",
    "                blobs.append(blob)\n",
    "            is_visited[i, j] = True\n",
    "    return blobs"
   ]
  },
  {
   "cell_type": "code",
   "execution_count": null,
   "metadata": {},
   "outputs": [],
   "source": [
    "blobs = find_blobs(image)\n",
    "len(blobs)"
   ]
  },
  {
   "cell_type": "markdown",
   "metadata": {},
   "source": [
    "## Analyzis of the blobs"
   ]
  },
  {
   "cell_type": "markdown",
   "metadata": {},
   "source": [
    "Display of the bounding boxes"
   ]
  },
  {
   "cell_type": "code",
   "execution_count": null,
   "metadata": {},
   "outputs": [],
   "source": [
    "bounding_boxes = cv2.merge((image, image, image))\n",
    "for blob in blobs:\n",
    "    xs = [j for _, j in blob]\n",
    "    ys = [i for i, _ in blob]\n",
    "    x_1 = min(xs)\n",
    "    y_1 = min(ys)\n",
    "    x_2 = max(xs)\n",
    "    y_2 = max(ys)\n",
    "    bounding_boxes = cv2.rectangle(bounding_boxes, (x_1, y_1), (x_2, y_2), (0, 0, 255))\n",
    "cv2.imwrite('/tmp/bounded_boxes.png', bounding_boxes)"
   ]
  },
  {
   "cell_type": "markdown",
   "metadata": {},
   "source": [
    "Width and height distribution"
   ]
  },
  {
   "cell_type": "code",
   "execution_count": null,
   "metadata": {},
   "outputs": [],
   "source": [
    "widths = []\n",
    "heights = []\n",
    "counts = []\n",
    "for blob in blobs:\n",
    "    xs = [j for _, j in blob]\n",
    "    ys = [i for i, _ in blob]\n",
    "    x_1 = min(xs)\n",
    "    y_1 = min(ys)\n",
    "    x_2 = max(xs)\n",
    "    y_2 = max(ys)\n",
    "    width = x_2 - x_1\n",
    "    height = y_2 - y_1\n",
    "    widths.append(width)\n",
    "    heights.append(height)\n",
    "    counts.append(len(blob))"
   ]
  },
  {
   "cell_type": "code",
   "execution_count": null,
   "metadata": {},
   "outputs": [],
   "source": [
    "from matplotlib import pyplot as plt\n",
    "\n",
    "plt.figure()\n",
    "plt.hist(widths)\n",
    "plt.show()"
   ]
  },
  {
   "cell_type": "code",
   "execution_count": null,
   "metadata": {},
   "outputs": [],
   "source": [
    "from matplotlib import pyplot as plt\n",
    "\n",
    "plt.figure()\n",
    "plt.hist(heights)\n",
    "plt.show()"
   ]
  },
  {
   "cell_type": "code",
   "execution_count": null,
   "metadata": {},
   "outputs": [],
   "source": [
    "from matplotlib import pyplot as plt\n",
    "\n",
    "plt.figure()\n",
    "plt.hist(counts)\n",
    "plt.show()"
   ]
  },
  {
   "cell_type": "markdown",
   "metadata": {},
   "source": [
    "## Find character *a*"
   ]
  },
  {
   "cell_type": "code",
   "execution_count": null,
   "metadata": {},
   "outputs": [],
   "source": [
    "point = (440, 450)\n",
    "a_blob = None\n",
    "for blob in blobs:\n",
    "    if point in blob:\n",
    "        a_blob = blob\n",
    "        break"
   ]
  },
  {
   "cell_type": "code",
   "execution_count": null,
   "metadata": {},
   "outputs": [],
   "source": [
    "def render_blob(blob, image_size):\n",
    "    \"\"\"\n",
    "    Render the blob to a fixed size image.\n",
    "    :param blob: list of pixel coordinates\n",
    "    :param image_size: size of the rendered image\n",
    "    :return: a NumPy array with 0 and 1 values\n",
    "    \"\"\"\n",
    "    image = np.zeros(image_size, dtype=int)\n",
    "    min_row = min([i for i, _ in blob])\n",
    "    min_column = min([j for _, j in blob])\n",
    "    for row, column in blob:\n",
    "        image[row - min_row, column - min_column] = 1\n",
    "    return image"
   ]
  },
  {
   "cell_type": "code",
   "execution_count": null,
   "metadata": {},
   "outputs": [],
   "source": [
    "def compare_blob(blob_1, blob_2):\n",
    "    \"\"\"\n",
    "    Calculate the distance of the blobs.\n",
    "    :param blob_1: list of blob pixels\n",
    "    :param blob_2: list of blob pixels\n",
    "    :return: distance of the blobs\n",
    "    \"\"\"\n",
    "    image_1 = render_blob(blob_1, (50, 50))\n",
    "    image_2 = render_blob(blob_2, (50, 50))\n",
    "    distance = np.sum(np.sum(np.abs(image_1 - image_2)))\n",
    "    return distance"
   ]
  },
  {
   "cell_type": "code",
   "execution_count": null,
   "metadata": {},
   "outputs": [],
   "source": [
    "distances = []\n",
    "for blob in blobs:\n",
    "    distance = compare_blob(blob, a_blob)\n",
    "    distances.append(distance)"
   ]
  },
  {
   "cell_type": "code",
   "execution_count": null,
   "metadata": {},
   "outputs": [],
   "source": [
    "from matplotlib import pyplot as plt\n",
    "\n",
    "plt.figure()\n",
    "plt.hist(distances, bins=20)\n",
    "plt.show()"
   ]
  },
  {
   "cell_type": "code",
   "execution_count": null,
   "metadata": {},
   "outputs": [],
   "source": [
    "result = cv2.merge((image, image, image))\n",
    "\n",
    "for blob in blobs:\n",
    "    distance = compare_blob(blob, a_blob)\n",
    "    if distance < 60:\n",
    "        min_row = min([i for i, _ in blob])\n",
    "        min_column = min([j for _, j in blob])\n",
    "        max_row = max([i for i, _ in blob])\n",
    "        max_column = max([j for _, j in blob])\n",
    "        result[min_row:max_row, min_column:max_column, 0] = 0\n",
    "\n",
    "cv2.imwrite('/tmp/a_characters.png', result)"
   ]
  }
 ],
 "metadata": {
  "kernelspec": {
   "display_name": "Python 3",
   "language": "python",
   "name": "python3"
  },
  "language_info": {
   "codemirror_mode": {
    "name": "ipython",
    "version": 3
   },
   "file_extension": ".py",
   "mimetype": "text/x-python",
   "name": "python",
   "nbconvert_exporter": "python",
   "pygments_lexer": "ipython3",
   "version": "3.6.9"
  }
 },
 "nbformat": 4,
 "nbformat_minor": 2
}
