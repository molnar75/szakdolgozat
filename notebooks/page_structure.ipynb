{
 "cells": [
  {
   "cell_type": "markdown",
   "metadata": {},
   "source": [
    "# Page Structure"
   ]
  },
  {
   "cell_type": "markdown",
   "metadata": {},
   "source": [
    "## Read image from PDF file"
   ]
  },
  {
   "cell_type": "markdown",
   "metadata": {},
   "source": [
    "https://github.com/Belval/pdf2image/blob/master/docs/reference.md"
   ]
  },
  {
   "cell_type": "code",
   "execution_count": null,
   "metadata": {},
   "outputs": [],
   "source": [
    "import cv2\n",
    "import numpy as np\n",
    "from pdf2image import convert_from_path\n",
    "\n",
    "pil_images = convert_from_path('samples/test2pdf.pdf', size=(2500, None))\n",
    "images = [\n",
    "    cv2.cvtColor(np.array(pil_image), cv2.COLOR_BGR2GRAY)\n",
    "    for pil_image in pil_images\n",
    "]"
   ]
  },
  {
   "cell_type": "code",
   "execution_count": null,
   "metadata": {},
   "outputs": [],
   "source": [
    "from matplotlib import pyplot as plt\n",
    "\n",
    "for image in images:\n",
    "    plt.figure(figsize=(3, 6))\n",
    "    plt.imshow(image)\n",
    "    plt.show()"
   ]
  },
  {
   "cell_type": "code",
   "execution_count": null,
   "metadata": {},
   "outputs": [],
   "source": [
    "images[0].shape"
   ]
  },
  {
   "cell_type": "code",
   "execution_count": null,
   "metadata": {},
   "outputs": [],
   "source": [
    "def load_images_from_pdf(pdf_path, size=None):\n",
    "    \"\"\"\n",
    "    Load OpenCV images from a PDF file.\n",
    "    :param pdf_path: path of the PDF file\n",
    "    :param size: the preferred size in pixels as a (width, height) tuple\n",
    "    :return: list of OpenCV images\n",
    "    \"\"\"\n",
    "    pil_images = convert_from_path(pdf_path, size=size)\n",
    "    images = [\n",
    "        cv2.cvtColor(np.array(pil_image), cv2.COLOR_BGR2GRAY)\n",
    "        for pil_image in pil_images\n",
    "    ]\n",
    "    return images"
   ]
  },
  {
   "cell_type": "markdown",
   "metadata": {},
   "source": [
    "## Margin estimation"
   ]
  },
  {
   "cell_type": "markdown",
   "metadata": {},
   "source": [
    "## Row and column profiles"
   ]
  },
  {
   "cell_type": "code",
   "execution_count": null,
   "metadata": {},
   "outputs": [],
   "source": [
    "images = load_images_from_pdf('samples/test2pdf.pdf', size=(2500, None))\n",
    "image = images[0]\n",
    "row_profile = np.mean(image, axis=1)\n",
    "column_profile = np.mean(image, axis=0)"
   ]
  },
  {
   "cell_type": "code",
   "execution_count": null,
   "metadata": {},
   "outputs": [],
   "source": [
    "plt.figure(figsize=(16, 1))\n",
    "plt.plot(row_profile)\n",
    "plt.show()"
   ]
  },
  {
   "cell_type": "code",
   "execution_count": null,
   "metadata": {},
   "outputs": [],
   "source": [
    "plt.figure()\n",
    "plt.plot(column_profile)\n",
    "plt.show()"
   ]
  },
  {
   "cell_type": "code",
   "execution_count": null,
   "metadata": {},
   "outputs": [],
   "source": [
    "def find_first_change(values):\n",
    "    \"\"\"\n",
    "    Find the index of the first changed value in the values.\n",
    "    :param values: an iterable array of comparable objects\n",
    "    :return: the i index where values[i - 1] != values[i]\n",
    "    \"\"\"\n",
    "    i = 1\n",
    "    while i < len(values):\n",
    "        if values[i - 1] != values[i]:\n",
    "            return i\n",
    "        i += 1\n",
    "    raise ValueError('All values are the same!')"
   ]
  },
  {
   "cell_type": "code",
   "execution_count": null,
   "metadata": {},
   "outputs": [],
   "source": [
    "def find_last_change(values):\n",
    "    \"\"\"\n",
    "    Find the index of the last changed value in the values.\n",
    "    :param values: an iterable array of comparable objects\n",
    "    :return: the i index where values[i] != values[i + 1]\n",
    "    \"\"\"\n",
    "    i = len(values) - 2\n",
    "    while i >= 0:\n",
    "        if values[i] != values[i + 1]:\n",
    "            return i\n",
    "        i -= 1\n",
    "    raise ValueError('All values are the same!')"
   ]
  },
  {
   "cell_type": "code",
   "execution_count": null,
   "metadata": {},
   "outputs": [],
   "source": [
    "def calc_margins(image):\n",
    "    \"\"\"\n",
    "    Calculate the margins of the image.\n",
    "    :param image: the NumPy array of page intensity image\n",
    "    :return: dictionary of the estimated margins\n",
    "    \"\"\"\n",
    "    row_profile = np.mean(image, axis=1)\n",
    "    column_profile = np.mean(image, axis=0)\n",
    "    margins = {\n",
    "        'left': find_first_change(column_profile),\n",
    "        'right': find_last_change(column_profile),\n",
    "        'top': find_first_change(row_profile),\n",
    "        'bottom': find_last_change(row_profile)\n",
    "    }\n",
    "    return margins"
   ]
  },
  {
   "cell_type": "code",
   "execution_count": null,
   "metadata": {},
   "outputs": [],
   "source": [
    "calc_margins(image)"
   ]
  },
  {
   "cell_type": "markdown",
   "metadata": {},
   "source": [
    "Display the margins"
   ]
  },
  {
   "cell_type": "code",
   "execution_count": null,
   "metadata": {},
   "outputs": [],
   "source": [
    "from matplotlib import pyplot as plt\n",
    "\n",
    "margins = calc_margins(image)\n",
    "width = margins['right'] - margins['left']\n",
    "height = margins['bottom'] - margins['top']\n",
    "fig, ax = plt.subplots(figsize=(10, 20))\n",
    "plt.imshow(image, cmap='gray')\n",
    "rectangle = plt.Rectangle(\n",
    "    (margins['left'], margins['top']), width, height,\n",
    "    facecolor='black', alpha=0.1)\n",
    "ax.add_patch(rectangle)\n",
    "plt.show()"
   ]
  },
  {
   "cell_type": "code",
   "execution_count": null,
   "metadata": {},
   "outputs": [],
   "source": [
    "plt.figure(figsize=(16, 2))\n",
    "plt.plot(row_profile)\n",
    "plt.xlim(200, 500)\n",
    "plt.show()"
   ]
  },
  {
   "cell_type": "code",
   "execution_count": null,
   "metadata": {},
   "outputs": [],
   "source": [
    "segments = []\n",
    "start = None\n",
    "end = None\n",
    "background_color = 255\n",
    "for i, value in enumerate(row_profile):\n",
    "    if value != background_color:\n",
    "        if start is None:\n",
    "            start = i\n",
    "    elif start is not None:\n",
    "        end = i\n",
    "        segments.append((start, end))\n",
    "        start = None\n",
    "segments"
   ]
  },
  {
   "cell_type": "code",
   "execution_count": null,
   "metadata": {},
   "outputs": [],
   "source": [
    "def find_segments(values, background_color):\n",
    "    \"\"\"\n",
    "    Find the segments with non-background colors in the iterable.\n",
    "    :param values: intensity values\n",
    "    :param background_color: the background color which should be skipped\n",
    "    :return: list of segments as [start, end) tuples of indices\n",
    "    \"\"\"\n",
    "    segments = []\n",
    "    start = None\n",
    "    end = None\n",
    "    background_color = 255\n",
    "    for i, value in enumerate(values):\n",
    "        if value != background_color:\n",
    "            if start is None:\n",
    "                start = i\n",
    "        elif start is not None:\n",
    "            end = i\n",
    "            segments.append((start, end))\n",
    "            start = None\n",
    "    return segments"
   ]
  },
  {
   "cell_type": "markdown",
   "metadata": {},
   "source": [
    "Display the segments"
   ]
  },
  {
   "cell_type": "code",
   "execution_count": null,
   "metadata": {},
   "outputs": [],
   "source": [
    "margins = calc_margins(image)\n",
    "width = margins['right'] - margins['left']\n",
    "row_profile = np.mean(image, axis=1)\n",
    "background_color = 255\n",
    "segments = find_segments(row_profile, background_color)\n",
    "fig, ax = plt.subplots(figsize=(10, 20))\n",
    "plt.imshow(image, cmap='gray')\n",
    "for segment in segments:\n",
    "    height = segment[1] - segment[0]\n",
    "    rectangle = plt.Rectangle((margins['left'], segment[0]), width, height, facecolor='blue', alpha=0.1)\n",
    "    ax.add_patch(rectangle)\n",
    "plt.show()"
   ]
  },
  {
   "cell_type": "markdown",
   "metadata": {},
   "source": [
    "Calculate the spacing between segments and display the histogram"
   ]
  },
  {
   "cell_type": "code",
   "execution_count": null,
   "metadata": {},
   "outputs": [],
   "source": [
    "def calc_spacing_between_segments(segments):\n",
    "    \"\"\"\n",
    "    Calculate the spacing between the segments.\n",
    "    :param segments: list of segments as [start, end) intervals\n",
    "    :return: list of the distances between the segments\n",
    "    \"\"\"\n",
    "    spacing = []\n",
    "    for i in range(len(segments) - 1):\n",
    "        space = segments[i + 1][0] - segments[i][1]\n",
    "        spacing.append(space)\n",
    "    return spacing"
   ]
  },
  {
   "cell_type": "code",
   "execution_count": null,
   "metadata": {},
   "outputs": [],
   "source": [
    "spacing = calc_spacing_between_segments(segments)\n",
    "print(spacing)"
   ]
  },
  {
   "cell_type": "code",
   "execution_count": null,
   "metadata": {},
   "outputs": [],
   "source": [
    "plt.figure()\n",
    "plt.hist(spacing)\n",
    "plt.show()"
   ]
  },
  {
   "cell_type": "markdown",
   "metadata": {},
   "source": [
    "Join the closer segments"
   ]
  },
  {
   "cell_type": "code",
   "execution_count": null,
   "metadata": {},
   "outputs": [],
   "source": [
    "min_spacing = 30\n",
    "joined_segments = [segments[0]]\n",
    "for segment in segments[1:]:\n",
    "    if (segment[0] - joined_segments[-1][1]) < min_spacing:\n",
    "        joined_segments[-1] = (joined_segments[-1][0], segment[1])\n",
    "    else:\n",
    "        joined_segments.append(segment)\n",
    "print(joined_segments)"
   ]
  },
  {
   "cell_type": "markdown",
   "metadata": {},
   "source": [
    "Display the paragraphs"
   ]
  },
  {
   "cell_type": "code",
   "execution_count": null,
   "metadata": {},
   "outputs": [],
   "source": [
    "margins = calc_margins(image)\n",
    "width = margins['right'] - margins['left']\n",
    "row_profile = np.mean(image, axis=1)\n",
    "background_color = 255\n",
    "segments = find_segments(row_profile, background_color)\n",
    "fig, ax = plt.subplots(figsize=(10, 20))\n",
    "plt.imshow(image, cmap='gray')\n",
    "for segment in joined_segments:\n",
    "    height = segment[1] - segment[0]\n",
    "    rectangle = plt.Rectangle((margins['left'], segment[0]), width, height, facecolor='red', alpha=0.1)\n",
    "    ax.add_patch(rectangle)\n",
    "plt.show()"
   ]
  },
  {
   "cell_type": "code",
   "execution_count": null,
   "metadata": {},
   "outputs": [],
   "source": [
    "def join_segments(segments, min_spacing):\n",
    "    \"\"\"\n",
    "    Join the segments which are closer to each others than the minimal spacing.\n",
    "    :param segments: list of segments as [start, end) intervals\n",
    "    :param min_spacing: the minimal spacing between the joined segments\n",
    "    :return: list of segments in the same format as the input\n",
    "    \"\"\"\n",
    "    joined_segments = [segments[0]]\n",
    "    for segment in segments[1:]:\n",
    "        if (segment[0] - joined_segments[-1][1]) < min_spacing:\n",
    "            joined_segments[-1] = (joined_segments[-1][0], segment[1])\n",
    "        else:\n",
    "            joined_segments.append(segment)\n",
    "    return joined_segments"
   ]
  },
  {
   "cell_type": "markdown",
   "metadata": {},
   "source": [
    "TODO: Estimate the optimal spacing from the histogram!"
   ]
  }
 ],
 "metadata": {
  "kernelspec": {
   "display_name": "Python 3",
   "language": "python",
   "name": "python3"
  },
  "language_info": {
   "codemirror_mode": {
    "name": "ipython",
    "version": 3
   },
   "file_extension": ".py",
   "mimetype": "text/x-python",
   "name": "python",
   "nbconvert_exporter": "python",
   "pygments_lexer": "ipython3",
   "version": "3.6.9"
  }
 },
 "nbformat": 4,
 "nbformat_minor": 2
}
