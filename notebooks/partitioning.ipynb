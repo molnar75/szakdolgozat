{
 "cells": [
  {
   "cell_type": "markdown",
   "metadata": {},
   "source": [
    "# Partícionálás"
   ]
  },
  {
   "cell_type": "code",
   "execution_count": null,
   "metadata": {},
   "outputs": [],
   "source": [
    "import cv2\n",
    "import numpy as np\n",
    "from pdf2image import convert_from_path\n",
    "\n",
    "def load_images_from_pdf(pdf_path, size=None):\n",
    "    \"\"\"\n",
    "    Load OpenCV images from a PDF file.\n",
    "    :param pdf_path: path of the PDF file\n",
    "    :param size: the preferred size in pixels as a (width, height) tuple\n",
    "    :return: list of OpenCV images\n",
    "    \"\"\"\n",
    "    pil_images = convert_from_path(pdf_path, size=size)\n",
    "    images = [\n",
    "        cv2.cvtColor(np.array(pil_image), cv2.COLOR_BGR2GRAY)\n",
    "        for pil_image in pil_images\n",
    "    ]\n",
    "    return images"
   ]
  },
  {
   "cell_type": "code",
   "execution_count": null,
   "metadata": {},
   "outputs": [],
   "source": [
    "images = load_images_from_pdf('samples/test12.pdf', size=(2500, None))"
   ]
  },
  {
   "cell_type": "code",
   "execution_count": null,
   "metadata": {},
   "outputs": [],
   "source": [
    "image = images[1]\n",
    "image.shape"
   ]
  },
  {
   "cell_type": "code",
   "execution_count": null,
   "metadata": {},
   "outputs": [],
   "source": [
    "from matplotlib import pyplot as plt\n",
    "\n",
    "plt.figure(figsize=(5, 10))\n",
    "plt.imshow(image, cmap='gray')\n",
    "plt.show()"
   ]
  },
  {
   "cell_type": "code",
   "execution_count": null,
   "metadata": {},
   "outputs": [],
   "source": [
    "def find_segments(values, background_color):\n",
    "    \"\"\"\n",
    "    Find the segments with non-background colors in the iterable.\n",
    "    :param values: intensity values\n",
    "    :param background_color: the background color which should be skipped\n",
    "    :return: list of segments as [start, end) tuples of indices\n",
    "    \"\"\"\n",
    "    segments = []\n",
    "    start = None\n",
    "    end = None\n",
    "    for i, value in enumerate(values):\n",
    "        if value != background_color:\n",
    "            if start is None:\n",
    "                start = i\n",
    "        elif start is not None:\n",
    "            end = i\n",
    "            segments.append((start, end))\n",
    "            start = None\n",
    "    return segments"
   ]
  },
  {
   "cell_type": "code",
   "execution_count": null,
   "metadata": {},
   "outputs": [],
   "source": [
    "def find_max_split_position(segments):\n",
    "    \"\"\"\n",
    "    Calculate the spacing between the segments.\n",
    "    :param segments: list of segments as [start, end) intervals\n",
    "    :return: tuple of split position with maximal spacing and the spacing itself\n",
    "    \"\"\"\n",
    "    spacing = []\n",
    "    max_space = 0\n",
    "    max_split_position = None\n",
    "    for i in range(len(segments) - 1):\n",
    "        space = segments[i + 1][0] - segments[i][1]\n",
    "        if space > max_space:\n",
    "            max_space = space\n",
    "            max_split_position = (segments[i][1] + segments[i + 1][0]) // 2\n",
    "    return max_split_position, max_space"
   ]
  },
  {
   "cell_type": "code",
   "execution_count": null,
   "metadata": {},
   "outputs": [],
   "source": [
    "row_profile = np.mean(image, axis=1)\n",
    "segments = find_segments(row_profile, 255)\n",
    "find_max_split_position(segments)"
   ]
  },
  {
   "cell_type": "code",
   "execution_count": null,
   "metadata": {},
   "outputs": [],
   "source": [
    "def find_split_position(image, region):\n",
    "    \"\"\"\n",
    "    Find the optimal position of the splitting.\n",
    "    :param image: a NumPy image\n",
    "    :param region: the considered part of the image\n",
    "    :return: tuple of axis (0 or 1) and position\n",
    "    \"\"\"\n",
    "    roi = image[\n",
    "        region.row:region.row + region.n_rows,\n",
    "        region.column:region.column + region.n_columns]\n",
    "    row_profile = np.mean(roi, axis=1)\n",
    "    segments = find_segments(row_profile, 255)\n",
    "    row_split, row_space = find_max_split_position(segments)\n",
    "    if row_split is not None:\n",
    "        row_split += region.row\n",
    "    column_profile = np.mean(roi, axis=0)\n",
    "    segments = find_segments(column_profile, 255)\n",
    "    column_split, column_space = find_max_split_position(segments)\n",
    "    if column_split is not None:\n",
    "        column_split += region.column\n",
    "    if column_split is None:\n",
    "        return 0, row_split\n",
    "    if row_split is None:\n",
    "        return 1, column_split\n",
    "    if row_space >= column_space:\n",
    "        return 0, row_split\n",
    "    else:\n",
    "        return 1, column_split"
   ]
  },
  {
   "cell_type": "code",
   "execution_count": null,
   "metadata": {},
   "outputs": [],
   "source": [
    "from region import Region\n",
    "\n",
    "region = Region(0, 0, image.shape[0], image.shape[1])\n",
    "axis, position = find_split_position(image, region)"
   ]
  },
  {
   "cell_type": "code",
   "execution_count": null,
   "metadata": {},
   "outputs": [],
   "source": [
    "def split_region(region, axis, position):\n",
    "    \"\"\"\n",
    "    Split the region into two half by the given axis.\n",
    "    :param region: region of interest\n",
    "    :param axis: 0 or 1 for row and column\n",
    "    :param position: position of the splitting\n",
    "    :return: tuple of two region objects\n",
    "    \"\"\"\n",
    "    if axis == 0:\n",
    "        upper_region = Region(\n",
    "            region.row, region.column,\n",
    "            position - region.row, region.n_columns\n",
    "        )\n",
    "        lower_region = Region(\n",
    "            position, region.column,\n",
    "            region.row + region.n_rows - position, region.n_columns\n",
    "        )\n",
    "        return upper_region, lower_region\n",
    "    else:\n",
    "        left_region = Region(\n",
    "            region.row, region.column,\n",
    "            region.n_rows, position - region.column\n",
    "        )\n",
    "        right_region = Region(\n",
    "            region.row, position,\n",
    "            region.n_rows, region.column + region.n_columns - position\n",
    "        )\n",
    "        return left_region, right_region"
   ]
  },
  {
   "cell_type": "code",
   "execution_count": null,
   "metadata": {},
   "outputs": [],
   "source": [
    "region_1, region_2 = split_region(region, axis, position)\n",
    "print(region)\n",
    "print(region_1)\n",
    "print(region_2)"
   ]
  },
  {
   "cell_type": "code",
   "execution_count": null,
   "metadata": {},
   "outputs": [],
   "source": [
    "def build_tree(image, region):\n",
    "    \"\"\"\n",
    "    Building a binary tree by splitting the image horizontally or vertically.\n",
    "    :param image: the image which should be recursively partitioned\n",
    "    :param region: the considered part of the image\n",
    "    :return: a binary tree of regions\n",
    "    \"\"\"\n",
    "    axis, position = find_split_position(image, region)\n",
    "    if position is not None:\n",
    "        region_1, region_2 = split_region(region, axis, position)\n",
    "        left_child = build_tree(image, region_1)\n",
    "        right_child = build_tree(image, region_2)\n",
    "        return [left_child, right_child]\n",
    "    else:\n",
    "        return region"
   ]
  },
  {
   "cell_type": "code",
   "execution_count": null,
   "metadata": {},
   "outputs": [],
   "source": [
    "region = Region(0, 0, image.shape[0], image.shape[1])\n",
    "tree = build_tree(image, region)"
   ]
  },
  {
   "cell_type": "code",
   "execution_count": null,
   "metadata": {},
   "outputs": [],
   "source": [
    "tree"
   ]
  },
  {
   "cell_type": "markdown",
   "metadata": {},
   "source": [
    "## Display the resulted partitioning"
   ]
  },
  {
   "cell_type": "code",
   "execution_count": null,
   "metadata": {},
   "outputs": [],
   "source": [
    "result = cv2.merge((image, image, image))"
   ]
  },
  {
   "cell_type": "code",
   "execution_count": null,
   "metadata": {},
   "outputs": [],
   "source": [
    "def draw_regions(tree):\n",
    "    global result\n",
    "    if isinstance(tree, list):\n",
    "        draw_regions(tree[0])\n",
    "        draw_regions(tree[1])\n",
    "    else:\n",
    "        region = tree\n",
    "        x_1 = region.column\n",
    "        y_1 = region.row\n",
    "        x_2 = x_1 + region.n_columns\n",
    "        y_2 = y_1 + region.n_rows\n",
    "        result = cv2.rectangle(result, (x_1, y_1), (x_2, y_2), (255, 0, 0))"
   ]
  },
  {
   "cell_type": "code",
   "execution_count": null,
   "metadata": {},
   "outputs": [],
   "source": [
    "draw_regions(tree)"
   ]
  },
  {
   "cell_type": "code",
   "execution_count": null,
   "metadata": {},
   "outputs": [],
   "source": [
    "cv2.imwrite('/tmp/splitted.png', result)"
   ]
  }
 ],
 "metadata": {
  "kernelspec": {
   "display_name": "Python 3",
   "language": "python",
   "name": "python3"
  },
  "language_info": {
   "codemirror_mode": {
    "name": "ipython",
    "version": 3
   },
   "file_extension": ".py",
   "mimetype": "text/x-python",
   "name": "python",
   "nbconvert_exporter": "python",
   "pygments_lexer": "ipython3",
   "version": "3.6.9"
  }
 },
 "nbformat": 4,
 "nbformat_minor": 2
}
